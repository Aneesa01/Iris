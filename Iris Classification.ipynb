{
 "cells": [
  {
   "cell_type": "code",
   "execution_count": 2,
   "metadata": {
    "collapsed": false
   },
   "outputs": [],
   "source": [
    "import pandas as pd\n",
    "import numpy as np\n",
    "import random\n",
    "import scipy.integrate as integrate\n",
    "%matplotlib inline \n",
    "import matplotlib.pyplot as plt"
   ]
  },
  {
   "cell_type": "markdown",
   "metadata": {},
   "source": [
    "Importing the packages and now reading data"
   ]
  },
  {
   "cell_type": "code",
   "execution_count": 3,
   "metadata": {
    "collapsed": false
   },
   "outputs": [],
   "source": [
    "df=pd.read_csv('iris.csv')\n",
    "    "
   ]
  },
  {
   "cell_type": "code",
   "execution_count": 85,
   "metadata": {
    "collapsed": false
   },
   "outputs": [],
   "source": [
    "msk = np.random.rand(len(df)) < 0.8\n",
    "\n",
    "train = pd.DataFrame(df[msk])\n",
    "\n",
    "test = df[~msk]"
   ]
  },
  {
   "cell_type": "code",
   "execution_count": 86,
   "metadata": {
    "collapsed": false
   },
   "outputs": [
    {
     "data": {
      "text/plain": [
       "(122, 5)"
      ]
     },
     "execution_count": 86,
     "metadata": {},
     "output_type": "execute_result"
    }
   ],
   "source": [
    "train.shape"
   ]
  },
  {
   "cell_type": "code",
   "execution_count": 87,
   "metadata": {
    "collapsed": false
   },
   "outputs": [
    {
     "data": {
      "text/plain": [
       "(28, 5)"
      ]
     },
     "execution_count": 87,
     "metadata": {},
     "output_type": "execute_result"
    }
   ],
   "source": [
    "test.shape"
   ]
  },
  {
   "cell_type": "code",
   "execution_count": 7,
   "metadata": {
    "collapsed": false
   },
   "outputs": [
    {
     "data": {
      "text/plain": [
       "<bound method NDFrame.head of      Sepal length  Sepal width  Petal length  Petal width            class\n",
       "5             5.4          3.9           1.7          0.4      Iris-setosa\n",
       "19            5.1          3.8           1.5          0.3      Iris-setosa\n",
       "22            4.6          3.6           1.0          0.2      Iris-setosa\n",
       "28            5.2          3.4           1.4          0.2      Iris-setosa\n",
       "39            5.1          3.4           1.5          0.2      Iris-setosa\n",
       "45            4.8          3.0           1.4          0.3      Iris-setosa\n",
       "47            4.6          3.2           1.4          0.2      Iris-setosa\n",
       "56            6.3          3.3           4.7          1.6  Iris-versicolor\n",
       "57            4.9          2.4           3.3          1.0  Iris-versicolor\n",
       "63            6.1          2.9           4.7          1.4  Iris-versicolor\n",
       "64            5.6          2.9           3.6          1.3  Iris-versicolor\n",
       "66            5.6          3.0           4.5          1.5  Iris-versicolor\n",
       "68            6.2          2.2           4.5          1.5  Iris-versicolor\n",
       "80            5.5          2.4           3.8          1.1  Iris-versicolor\n",
       "89            5.5          2.5           4.0          1.3  Iris-versicolor\n",
       "90            5.5          2.6           4.4          1.2  Iris-versicolor\n",
       "93            5.0          2.3           3.3          1.0  Iris-versicolor\n",
       "97            6.2          2.9           4.3          1.3  Iris-versicolor\n",
       "101           5.8          2.7           5.1          1.9   Iris-virginica\n",
       "109           7.2          3.6           6.1          2.5   Iris-virginica\n",
       "110           6.5          3.2           5.1          2.0   Iris-virginica\n",
       "125           7.2          3.2           6.0          1.8   Iris-virginica\n",
       "126           6.2          2.8           4.8          1.8   Iris-virginica\n",
       "129           7.2          3.0           5.8          1.6   Iris-virginica\n",
       "133           6.3          2.8           5.1          1.5   Iris-virginica\n",
       "141           6.9          3.1           5.1          2.3   Iris-virginica\n",
       "144           6.7          3.3           5.7          2.5   Iris-virginica\n",
       "147           6.5          3.0           5.2          2.0   Iris-virginica>"
      ]
     },
     "execution_count": 7,
     "metadata": {},
     "output_type": "execute_result"
    }
   ],
   "source": [
    "test.head"
   ]
  },
  {
   "cell_type": "code",
   "execution_count": 8,
   "metadata": {
    "collapsed": false
   },
   "outputs": [],
   "source": [
    "setosa = ['Iris-setosa']\n",
    "versicolor = ['Iris-versicolor']\n",
    "virginica = ['Iris-virginica']\n",
    "\n",
    "class_setosa = train[train['class'].isin(setosa)]\n",
    "class_versicolor = train[train['class'].isin(versicolor)]\n",
    "class_virginica = train[train['class'].isin(virginica)]"
   ]
  },
  {
   "cell_type": "code",
   "execution_count": 9,
   "metadata": {
    "collapsed": false
   },
   "outputs": [
    {
     "data": {
      "text/html": [
       "<div>\n",
       "<table border=\"1\" class=\"dataframe\">\n",
       "  <thead>\n",
       "    <tr style=\"text-align: right;\">\n",
       "      <th></th>\n",
       "      <th>Sepal length</th>\n",
       "      <th>Sepal width</th>\n",
       "      <th>Petal length</th>\n",
       "      <th>Petal width</th>\n",
       "      <th>class</th>\n",
       "    </tr>\n",
       "  </thead>\n",
       "  <tbody>\n",
       "    <tr>\n",
       "      <th>100</th>\n",
       "      <td>6.3</td>\n",
       "      <td>3.3</td>\n",
       "      <td>6.0</td>\n",
       "      <td>2.5</td>\n",
       "      <td>Iris-virginica</td>\n",
       "    </tr>\n",
       "    <tr>\n",
       "      <th>102</th>\n",
       "      <td>7.1</td>\n",
       "      <td>3.0</td>\n",
       "      <td>5.9</td>\n",
       "      <td>2.1</td>\n",
       "      <td>Iris-virginica</td>\n",
       "    </tr>\n",
       "    <tr>\n",
       "      <th>103</th>\n",
       "      <td>6.3</td>\n",
       "      <td>2.9</td>\n",
       "      <td>5.6</td>\n",
       "      <td>1.8</td>\n",
       "      <td>Iris-virginica</td>\n",
       "    </tr>\n",
       "    <tr>\n",
       "      <th>104</th>\n",
       "      <td>6.5</td>\n",
       "      <td>3.0</td>\n",
       "      <td>5.8</td>\n",
       "      <td>2.2</td>\n",
       "      <td>Iris-virginica</td>\n",
       "    </tr>\n",
       "    <tr>\n",
       "      <th>105</th>\n",
       "      <td>7.6</td>\n",
       "      <td>3.0</td>\n",
       "      <td>6.6</td>\n",
       "      <td>2.1</td>\n",
       "      <td>Iris-virginica</td>\n",
       "    </tr>\n",
       "    <tr>\n",
       "      <th>106</th>\n",
       "      <td>4.9</td>\n",
       "      <td>2.5</td>\n",
       "      <td>4.5</td>\n",
       "      <td>1.7</td>\n",
       "      <td>Iris-virginica</td>\n",
       "    </tr>\n",
       "    <tr>\n",
       "      <th>107</th>\n",
       "      <td>7.3</td>\n",
       "      <td>2.9</td>\n",
       "      <td>6.3</td>\n",
       "      <td>1.8</td>\n",
       "      <td>Iris-virginica</td>\n",
       "    </tr>\n",
       "    <tr>\n",
       "      <th>108</th>\n",
       "      <td>6.7</td>\n",
       "      <td>2.5</td>\n",
       "      <td>5.8</td>\n",
       "      <td>1.8</td>\n",
       "      <td>Iris-virginica</td>\n",
       "    </tr>\n",
       "    <tr>\n",
       "      <th>111</th>\n",
       "      <td>6.4</td>\n",
       "      <td>2.7</td>\n",
       "      <td>5.3</td>\n",
       "      <td>1.9</td>\n",
       "      <td>Iris-virginica</td>\n",
       "    </tr>\n",
       "    <tr>\n",
       "      <th>112</th>\n",
       "      <td>6.8</td>\n",
       "      <td>3.0</td>\n",
       "      <td>5.5</td>\n",
       "      <td>2.1</td>\n",
       "      <td>Iris-virginica</td>\n",
       "    </tr>\n",
       "    <tr>\n",
       "      <th>113</th>\n",
       "      <td>5.7</td>\n",
       "      <td>2.5</td>\n",
       "      <td>5.0</td>\n",
       "      <td>2.0</td>\n",
       "      <td>Iris-virginica</td>\n",
       "    </tr>\n",
       "    <tr>\n",
       "      <th>114</th>\n",
       "      <td>5.8</td>\n",
       "      <td>2.8</td>\n",
       "      <td>5.1</td>\n",
       "      <td>2.4</td>\n",
       "      <td>Iris-virginica</td>\n",
       "    </tr>\n",
       "    <tr>\n",
       "      <th>115</th>\n",
       "      <td>6.4</td>\n",
       "      <td>3.2</td>\n",
       "      <td>5.3</td>\n",
       "      <td>2.3</td>\n",
       "      <td>Iris-virginica</td>\n",
       "    </tr>\n",
       "    <tr>\n",
       "      <th>116</th>\n",
       "      <td>6.5</td>\n",
       "      <td>3.0</td>\n",
       "      <td>5.5</td>\n",
       "      <td>1.8</td>\n",
       "      <td>Iris-virginica</td>\n",
       "    </tr>\n",
       "    <tr>\n",
       "      <th>117</th>\n",
       "      <td>7.7</td>\n",
       "      <td>3.8</td>\n",
       "      <td>6.7</td>\n",
       "      <td>2.2</td>\n",
       "      <td>Iris-virginica</td>\n",
       "    </tr>\n",
       "    <tr>\n",
       "      <th>118</th>\n",
       "      <td>7.7</td>\n",
       "      <td>2.6</td>\n",
       "      <td>6.9</td>\n",
       "      <td>2.3</td>\n",
       "      <td>Iris-virginica</td>\n",
       "    </tr>\n",
       "    <tr>\n",
       "      <th>119</th>\n",
       "      <td>6.0</td>\n",
       "      <td>2.2</td>\n",
       "      <td>5.0</td>\n",
       "      <td>1.5</td>\n",
       "      <td>Iris-virginica</td>\n",
       "    </tr>\n",
       "    <tr>\n",
       "      <th>120</th>\n",
       "      <td>6.9</td>\n",
       "      <td>3.2</td>\n",
       "      <td>5.7</td>\n",
       "      <td>2.3</td>\n",
       "      <td>Iris-virginica</td>\n",
       "    </tr>\n",
       "    <tr>\n",
       "      <th>121</th>\n",
       "      <td>5.6</td>\n",
       "      <td>2.8</td>\n",
       "      <td>4.9</td>\n",
       "      <td>2.0</td>\n",
       "      <td>Iris-virginica</td>\n",
       "    </tr>\n",
       "    <tr>\n",
       "      <th>122</th>\n",
       "      <td>7.7</td>\n",
       "      <td>2.8</td>\n",
       "      <td>6.7</td>\n",
       "      <td>2.0</td>\n",
       "      <td>Iris-virginica</td>\n",
       "    </tr>\n",
       "    <tr>\n",
       "      <th>123</th>\n",
       "      <td>6.3</td>\n",
       "      <td>2.7</td>\n",
       "      <td>4.9</td>\n",
       "      <td>1.8</td>\n",
       "      <td>Iris-virginica</td>\n",
       "    </tr>\n",
       "    <tr>\n",
       "      <th>124</th>\n",
       "      <td>6.7</td>\n",
       "      <td>3.3</td>\n",
       "      <td>5.7</td>\n",
       "      <td>2.1</td>\n",
       "      <td>Iris-virginica</td>\n",
       "    </tr>\n",
       "    <tr>\n",
       "      <th>127</th>\n",
       "      <td>6.1</td>\n",
       "      <td>3.0</td>\n",
       "      <td>4.9</td>\n",
       "      <td>1.8</td>\n",
       "      <td>Iris-virginica</td>\n",
       "    </tr>\n",
       "    <tr>\n",
       "      <th>128</th>\n",
       "      <td>6.4</td>\n",
       "      <td>2.8</td>\n",
       "      <td>5.6</td>\n",
       "      <td>2.1</td>\n",
       "      <td>Iris-virginica</td>\n",
       "    </tr>\n",
       "    <tr>\n",
       "      <th>130</th>\n",
       "      <td>7.4</td>\n",
       "      <td>2.8</td>\n",
       "      <td>6.1</td>\n",
       "      <td>1.9</td>\n",
       "      <td>Iris-virginica</td>\n",
       "    </tr>\n",
       "    <tr>\n",
       "      <th>131</th>\n",
       "      <td>7.9</td>\n",
       "      <td>3.8</td>\n",
       "      <td>6.4</td>\n",
       "      <td>2.0</td>\n",
       "      <td>Iris-virginica</td>\n",
       "    </tr>\n",
       "    <tr>\n",
       "      <th>132</th>\n",
       "      <td>6.4</td>\n",
       "      <td>2.8</td>\n",
       "      <td>5.6</td>\n",
       "      <td>2.2</td>\n",
       "      <td>Iris-virginica</td>\n",
       "    </tr>\n",
       "    <tr>\n",
       "      <th>134</th>\n",
       "      <td>6.1</td>\n",
       "      <td>2.6</td>\n",
       "      <td>5.6</td>\n",
       "      <td>1.4</td>\n",
       "      <td>Iris-virginica</td>\n",
       "    </tr>\n",
       "    <tr>\n",
       "      <th>135</th>\n",
       "      <td>7.7</td>\n",
       "      <td>3.0</td>\n",
       "      <td>6.1</td>\n",
       "      <td>2.3</td>\n",
       "      <td>Iris-virginica</td>\n",
       "    </tr>\n",
       "    <tr>\n",
       "      <th>136</th>\n",
       "      <td>6.3</td>\n",
       "      <td>3.4</td>\n",
       "      <td>5.6</td>\n",
       "      <td>2.4</td>\n",
       "      <td>Iris-virginica</td>\n",
       "    </tr>\n",
       "    <tr>\n",
       "      <th>137</th>\n",
       "      <td>6.4</td>\n",
       "      <td>3.1</td>\n",
       "      <td>5.5</td>\n",
       "      <td>1.8</td>\n",
       "      <td>Iris-virginica</td>\n",
       "    </tr>\n",
       "    <tr>\n",
       "      <th>138</th>\n",
       "      <td>6.0</td>\n",
       "      <td>3.0</td>\n",
       "      <td>4.8</td>\n",
       "      <td>1.8</td>\n",
       "      <td>Iris-virginica</td>\n",
       "    </tr>\n",
       "    <tr>\n",
       "      <th>139</th>\n",
       "      <td>6.9</td>\n",
       "      <td>3.1</td>\n",
       "      <td>5.4</td>\n",
       "      <td>2.1</td>\n",
       "      <td>Iris-virginica</td>\n",
       "    </tr>\n",
       "    <tr>\n",
       "      <th>140</th>\n",
       "      <td>6.7</td>\n",
       "      <td>3.1</td>\n",
       "      <td>5.6</td>\n",
       "      <td>2.4</td>\n",
       "      <td>Iris-virginica</td>\n",
       "    </tr>\n",
       "    <tr>\n",
       "      <th>142</th>\n",
       "      <td>5.8</td>\n",
       "      <td>2.7</td>\n",
       "      <td>5.1</td>\n",
       "      <td>1.9</td>\n",
       "      <td>Iris-virginica</td>\n",
       "    </tr>\n",
       "    <tr>\n",
       "      <th>143</th>\n",
       "      <td>6.8</td>\n",
       "      <td>3.2</td>\n",
       "      <td>5.9</td>\n",
       "      <td>2.3</td>\n",
       "      <td>Iris-virginica</td>\n",
       "    </tr>\n",
       "    <tr>\n",
       "      <th>145</th>\n",
       "      <td>6.7</td>\n",
       "      <td>3.0</td>\n",
       "      <td>5.2</td>\n",
       "      <td>2.3</td>\n",
       "      <td>Iris-virginica</td>\n",
       "    </tr>\n",
       "    <tr>\n",
       "      <th>146</th>\n",
       "      <td>6.3</td>\n",
       "      <td>2.5</td>\n",
       "      <td>5.0</td>\n",
       "      <td>1.9</td>\n",
       "      <td>Iris-virginica</td>\n",
       "    </tr>\n",
       "    <tr>\n",
       "      <th>148</th>\n",
       "      <td>6.2</td>\n",
       "      <td>3.4</td>\n",
       "      <td>5.4</td>\n",
       "      <td>2.3</td>\n",
       "      <td>Iris-virginica</td>\n",
       "    </tr>\n",
       "    <tr>\n",
       "      <th>149</th>\n",
       "      <td>5.9</td>\n",
       "      <td>3.0</td>\n",
       "      <td>5.1</td>\n",
       "      <td>1.8</td>\n",
       "      <td>Iris-virginica</td>\n",
       "    </tr>\n",
       "  </tbody>\n",
       "</table>\n",
       "</div>"
      ],
      "text/plain": [
       "     Sepal length  Sepal width  Petal length  Petal width           class\n",
       "100           6.3          3.3           6.0          2.5  Iris-virginica\n",
       "102           7.1          3.0           5.9          2.1  Iris-virginica\n",
       "103           6.3          2.9           5.6          1.8  Iris-virginica\n",
       "104           6.5          3.0           5.8          2.2  Iris-virginica\n",
       "105           7.6          3.0           6.6          2.1  Iris-virginica\n",
       "106           4.9          2.5           4.5          1.7  Iris-virginica\n",
       "107           7.3          2.9           6.3          1.8  Iris-virginica\n",
       "108           6.7          2.5           5.8          1.8  Iris-virginica\n",
       "111           6.4          2.7           5.3          1.9  Iris-virginica\n",
       "112           6.8          3.0           5.5          2.1  Iris-virginica\n",
       "113           5.7          2.5           5.0          2.0  Iris-virginica\n",
       "114           5.8          2.8           5.1          2.4  Iris-virginica\n",
       "115           6.4          3.2           5.3          2.3  Iris-virginica\n",
       "116           6.5          3.0           5.5          1.8  Iris-virginica\n",
       "117           7.7          3.8           6.7          2.2  Iris-virginica\n",
       "118           7.7          2.6           6.9          2.3  Iris-virginica\n",
       "119           6.0          2.2           5.0          1.5  Iris-virginica\n",
       "120           6.9          3.2           5.7          2.3  Iris-virginica\n",
       "121           5.6          2.8           4.9          2.0  Iris-virginica\n",
       "122           7.7          2.8           6.7          2.0  Iris-virginica\n",
       "123           6.3          2.7           4.9          1.8  Iris-virginica\n",
       "124           6.7          3.3           5.7          2.1  Iris-virginica\n",
       "127           6.1          3.0           4.9          1.8  Iris-virginica\n",
       "128           6.4          2.8           5.6          2.1  Iris-virginica\n",
       "130           7.4          2.8           6.1          1.9  Iris-virginica\n",
       "131           7.9          3.8           6.4          2.0  Iris-virginica\n",
       "132           6.4          2.8           5.6          2.2  Iris-virginica\n",
       "134           6.1          2.6           5.6          1.4  Iris-virginica\n",
       "135           7.7          3.0           6.1          2.3  Iris-virginica\n",
       "136           6.3          3.4           5.6          2.4  Iris-virginica\n",
       "137           6.4          3.1           5.5          1.8  Iris-virginica\n",
       "138           6.0          3.0           4.8          1.8  Iris-virginica\n",
       "139           6.9          3.1           5.4          2.1  Iris-virginica\n",
       "140           6.7          3.1           5.6          2.4  Iris-virginica\n",
       "142           5.8          2.7           5.1          1.9  Iris-virginica\n",
       "143           6.8          3.2           5.9          2.3  Iris-virginica\n",
       "145           6.7          3.0           5.2          2.3  Iris-virginica\n",
       "146           6.3          2.5           5.0          1.9  Iris-virginica\n",
       "148           6.2          3.4           5.4          2.3  Iris-virginica\n",
       "149           5.9          3.0           5.1          1.8  Iris-virginica"
      ]
     },
     "execution_count": 9,
     "metadata": {},
     "output_type": "execute_result"
    }
   ],
   "source": [
    "class_virginica"
   ]
  },
  {
   "cell_type": "code",
   "execution_count": 10,
   "metadata": {
    "collapsed": false
   },
   "outputs": [
    {
     "data": {
      "text/plain": [
       "100    6.3\n",
       "102    7.1\n",
       "103    6.3\n",
       "104    6.5\n",
       "105    7.6\n",
       "106    4.9\n",
       "107    7.3\n",
       "108    6.7\n",
       "111    6.4\n",
       "112    6.8\n",
       "113    5.7\n",
       "114    5.8\n",
       "115    6.4\n",
       "116    6.5\n",
       "117    7.7\n",
       "118    7.7\n",
       "119    6.0\n",
       "120    6.9\n",
       "121    5.6\n",
       "122    7.7\n",
       "123    6.3\n",
       "124    6.7\n",
       "127    6.1\n",
       "128    6.4\n",
       "130    7.4\n",
       "131    7.9\n",
       "132    6.4\n",
       "134    6.1\n",
       "135    7.7\n",
       "136    6.3\n",
       "137    6.4\n",
       "138    6.0\n",
       "139    6.9\n",
       "140    6.7\n",
       "142    5.8\n",
       "143    6.8\n",
       "145    6.7\n",
       "146    6.3\n",
       "148    6.2\n",
       "149    5.9\n",
       "Name: Sepal length, dtype: float64"
      ]
     },
     "execution_count": 10,
     "metadata": {},
     "output_type": "execute_result"
    }
   ],
   "source": [
    "class_virginica['Sepal length']"
   ]
  },
  {
   "cell_type": "code",
   "execution_count": 43,
   "metadata": {
    "collapsed": false
   },
   "outputs": [
    {
     "data": {
      "text/plain": [
       "6.5725000000000007"
      ]
     },
     "execution_count": 43,
     "metadata": {},
     "output_type": "execute_result"
    }
   ],
   "source": [
    "import math\n",
    "def mean(numbers):\n",
    "    return sum(numbers)/float(len(numbers))\n",
    "mean(class_virginica['Sepal length'])"
   ]
  },
  {
   "cell_type": "code",
   "execution_count": 44,
   "metadata": {
    "collapsed": false
   },
   "outputs": [
    {
     "data": {
      "text/plain": [
       "0.24186046511627907"
      ]
     },
     "execution_count": 44,
     "metadata": {},
     "output_type": "execute_result"
    }
   ],
   "source": [
    "mean(class_setosa['Petal width'])"
   ]
  },
  {
   "cell_type": "code",
   "execution_count": 45,
   "metadata": {
    "collapsed": false
   },
   "outputs": [
    {
     "data": {
      "text/plain": [
       "5.0116279069767442"
      ]
     },
     "execution_count": 45,
     "metadata": {},
     "output_type": "execute_result"
    }
   ],
   "source": [
    "mean(class_setosa['Sepal length'])"
   ]
  },
  {
   "cell_type": "code",
   "execution_count": 46,
   "metadata": {
    "collapsed": false
   },
   "outputs": [
    {
     "data": {
      "text/plain": [
       "2.9499999999999993"
      ]
     },
     "execution_count": 46,
     "metadata": {},
     "output_type": "execute_result"
    }
   ],
   "source": [
    "mean(class_virginica['Sepal width'])"
   ]
  },
  {
   "cell_type": "code",
   "execution_count": 47,
   "metadata": {
    "collapsed": false
   },
   "outputs": [
    {
     "data": {
      "text/plain": [
       "2.0349999999999997"
      ]
     },
     "execution_count": 47,
     "metadata": {},
     "output_type": "execute_result"
    }
   ],
   "source": [
    "mean(class_virginica['Petal width'])"
   ]
  },
  {
   "cell_type": "code",
   "execution_count": 48,
   "metadata": {
    "collapsed": false
   },
   "outputs": [
    {
     "data": {
      "text/plain": [
       "1.3358974358974358"
      ]
     },
     "execution_count": 48,
     "metadata": {},
     "output_type": "execute_result"
    }
   ],
   "source": [
    "mean(class_versicolor['Petal width'])"
   ]
  },
  {
   "cell_type": "code",
   "execution_count": 49,
   "metadata": {
    "collapsed": false
   },
   "outputs": [
    {
     "data": {
      "text/plain": [
       "0.19799944110391546"
      ]
     },
     "execution_count": 49,
     "metadata": {},
     "output_type": "execute_result"
    }
   ],
   "source": [
    "def stdev(numbers):\n",
    "    avg = mean(numbers)\n",
    "    variance = sum([pow(x-avg,2) for x in numbers])/float(len(numbers)-1)\n",
    "    return math.sqrt(variance)\n",
    "stdev(class_versicolor['Petal width'])"
   ]
  },
  {
   "cell_type": "code",
   "execution_count": 50,
   "metadata": {
    "collapsed": false
   },
   "outputs": [],
   "source": [
    "Summary_setosa_mean = [mean(class_setosa['Sepal length']), mean(class_setosa['Sepal width']),\n",
    "                  mean(class_setosa['Petal length']),mean(class_setosa['Petal width'])]\n",
    "Summary_setosa_sd = [stdev(class_setosa['Sepal length']), stdev(class_setosa['Sepal width']),\n",
    "                      stdev(class_setosa['Petal length']), stdev(class_setosa['Petal width']) ]\n",
    "\n",
    "Summary_virginica_mean = [mean(class_virginica['Sepal length']), mean(class_virginica['Sepal width']), \n",
    "                  mean(class_virginica['Petal length']),mean(class_virginica['Petal width'])]\n",
    "Summary_virginica_sd = [stdev(class_virginica['Sepal length']), stdev(class_virginica['Sepal width']),\n",
    "                      stdev(class_virginica['Petal length']), stdev(class_virginica['Petal width']) ]\n",
    "\n",
    "Summary_versicolor_mean = [mean(class_versicolor['Sepal length']), mean(class_versicolor['Sepal width']), \n",
    "                  mean(class_versicolor['Petal length']),mean(class_versicolor['Petal width'])]\n",
    "Summary_versicolor_sd = [stdev(class_versicolor['Sepal length']), stdev(class_versicolor['Sepal width']),\n",
    "                      stdev(class_versicolor['Petal length']), stdev(class_versicolor['Petal width']) ]"
   ]
  },
  {
   "cell_type": "code",
   "execution_count": 51,
   "metadata": {
    "collapsed": false
   },
   "outputs": [
    {
     "data": {
      "text/plain": [
       "([6.5725000000000007,\n",
       "  2.9499999999999993,\n",
       "  5.5899999999999999,\n",
       "  2.0349999999999997],\n",
       " [0.6736762899121088,\n",
       "  0.3328201177351375,\n",
       "  0.5723545610805801,\n",
       "  0.25775161965717586])"
      ]
     },
     "execution_count": 51,
     "metadata": {},
     "output_type": "execute_result"
    }
   ],
   "source": [
    "Summary_virginica_mean, Summary_virginica_sd"
   ]
  },
  {
   "cell_type": "code",
   "execution_count": 52,
   "metadata": {
    "collapsed": false
   },
   "outputs": [
    {
     "data": {
      "text/plain": [
       "0.9289218822515808"
      ]
     },
     "execution_count": 52,
     "metadata": {},
     "output_type": "execute_result"
    }
   ],
   "source": [
    "import math\n",
    "def calculateProbability(x, mean, stdev):\n",
    "    exponent = math.exp(-(math.pow(x-mean,2)/(2*math.pow(stdev,2))))\n",
    "    return (1 / (math.sqrt(2*math.pi) * stdev)) * exponent\n",
    "\n",
    "x = 4.8\n",
    "mean = Summary_setosa_mean[0]\n",
    "stdev = Summary_setosa_sd[0]\n",
    "\n",
    "calculateProbability(x, mean, stdev)"
   ]
  },
  {
   "cell_type": "code",
   "execution_count": 53,
   "metadata": {
    "collapsed": false
   },
   "outputs": [
    {
     "data": {
      "text/plain": [
       "<matplotlib.axes._subplots.AxesSubplot at 0x118d692e8>"
      ]
     },
     "execution_count": 53,
     "metadata": {},
     "output_type": "execute_result"
    },
    {
     "data": {
      "image/png": "[encoded data removed]",
      "text/plain": [
       "<matplotlib.figure.Figure at 0x118d14668>"
      ]
     },
     "metadata": {},
     "output_type": "display_data"
    }
   ],
   "source": [
    "class_setosa['Sepal length'].plot.density()"
   ]
  },
  {
   "cell_type": "code",
   "execution_count": 54,
   "metadata": {
    "collapsed": false
   },
   "outputs": [
    {
     "data": {
      "text/html": [
       "<div>\n",
       "<table border=\"1\" class=\"dataframe\">\n",
       "  <thead>\n",
       "    <tr style=\"text-align: right;\">\n",
       "      <th></th>\n",
       "      <th>Sepal length</th>\n",
       "      <th>Sepal width</th>\n",
       "      <th>Petal length</th>\n",
       "      <th>Petal width</th>\n",
       "      <th>class</th>\n",
       "    </tr>\n",
       "  </thead>\n",
       "  <tbody>\n",
       "    <tr>\n",
       "      <th>0</th>\n",
       "      <td>5.1</td>\n",
       "      <td>3.5</td>\n",
       "      <td>1.4</td>\n",
       "      <td>0.2</td>\n",
       "      <td>Iris-setosa</td>\n",
       "    </tr>\n",
       "    <tr>\n",
       "      <th>1</th>\n",
       "      <td>4.9</td>\n",
       "      <td>3.0</td>\n",
       "      <td>1.4</td>\n",
       "      <td>0.2</td>\n",
       "      <td>Iris-setosa</td>\n",
       "    </tr>\n",
       "    <tr>\n",
       "      <th>2</th>\n",
       "      <td>4.7</td>\n",
       "      <td>3.2</td>\n",
       "      <td>1.3</td>\n",
       "      <td>0.2</td>\n",
       "      <td>Iris-setosa</td>\n",
       "    </tr>\n",
       "    <tr>\n",
       "      <th>3</th>\n",
       "      <td>4.6</td>\n",
       "      <td>3.1</td>\n",
       "      <td>1.5</td>\n",
       "      <td>0.2</td>\n",
       "      <td>Iris-setosa</td>\n",
       "    </tr>\n",
       "    <tr>\n",
       "      <th>4</th>\n",
       "      <td>5.0</td>\n",
       "      <td>3.6</td>\n",
       "      <td>1.4</td>\n",
       "      <td>0.2</td>\n",
       "      <td>Iris-setosa</td>\n",
       "    </tr>\n",
       "  </tbody>\n",
       "</table>\n",
       "</div>"
      ],
      "text/plain": [
       "   Sepal length  Sepal width  Petal length  Petal width        class\n",
       "0           5.1          3.5           1.4          0.2  Iris-setosa\n",
       "1           4.9          3.0           1.4          0.2  Iris-setosa\n",
       "2           4.7          3.2           1.3          0.2  Iris-setosa\n",
       "3           4.6          3.1           1.5          0.2  Iris-setosa\n",
       "4           5.0          3.6           1.4          0.2  Iris-setosa"
      ]
     },
     "execution_count": 54,
     "metadata": {},
     "output_type": "execute_result"
    }
   ],
   "source": [
    "df.head()"
   ]
  },
  {
   "cell_type": "code",
   "execution_count": 55,
   "metadata": {
    "collapsed": false
   },
   "outputs": [
    {
     "data": {
      "text/plain": [
       "1.0080181012326572"
      ]
     },
     "execution_count": 55,
     "metadata": {},
     "output_type": "execute_result"
    }
   ],
   "source": [
    "import scipy.stats\n",
    "scipy.stats.norm(5.0, 0.329).pdf(4.8)"
   ]
  },
  {
   "cell_type": "markdown",
   "metadata": {},
   "source": [
    "Hit a problem with the proababilities and are going to keep on for now."
   ]
  },
  {
   "cell_type": "code",
   "execution_count": 56,
   "metadata": {
    "collapsed": false
   },
   "outputs": [
    {
     "data": {
      "text/plain": [
       "0      5.1\n",
       "1      4.9\n",
       "2      4.7\n",
       "3      4.6\n",
       "4      5.0\n",
       "6      4.6\n",
       "7      5.0\n",
       "8      4.4\n",
       "9      4.9\n",
       "10     5.4\n",
       "11     4.8\n",
       "12     4.8\n",
       "13     4.3\n",
       "14     5.8\n",
       "15     5.7\n",
       "16     5.4\n",
       "17     5.1\n",
       "18     5.7\n",
       "20     5.4\n",
       "21     5.1\n",
       "23     5.1\n",
       "24     4.8\n",
       "25     5.0\n",
       "26     5.0\n",
       "27     5.2\n",
       "29     4.7\n",
       "30     4.8\n",
       "31     5.4\n",
       "32     5.2\n",
       "33     5.5\n",
       "      ... \n",
       "113    5.7\n",
       "114    5.8\n",
       "115    6.4\n",
       "116    6.5\n",
       "117    7.7\n",
       "118    7.7\n",
       "119    6.0\n",
       "120    6.9\n",
       "121    5.6\n",
       "122    7.7\n",
       "123    6.3\n",
       "124    6.7\n",
       "127    6.1\n",
       "128    6.4\n",
       "130    7.4\n",
       "131    7.9\n",
       "132    6.4\n",
       "134    6.1\n",
       "135    7.7\n",
       "136    6.3\n",
       "137    6.4\n",
       "138    6.0\n",
       "139    6.9\n",
       "140    6.7\n",
       "142    5.8\n",
       "143    6.8\n",
       "145    6.7\n",
       "146    6.3\n",
       "148    6.2\n",
       "149    5.9\n",
       "Name: Sepal length, dtype: float64"
      ]
     },
     "execution_count": 56,
     "metadata": {},
     "output_type": "execute_result"
    }
   ],
   "source": [
    "train['Sepal length']"
   ]
  },
  {
   "cell_type": "code",
   "execution_count": 57,
   "metadata": {
    "collapsed": false
   },
   "outputs": [
    {
     "ename": "TypeError",
     "evalue": "'numpy.float64' object is not callable",
     "output_type": "error",
     "traceback": [
      "\u001b[0;31m---------------------------------------------------------------------------\u001b[0m",
      "\u001b[0;31mTypeError\u001b[0m                                 Traceback (most recent call last)",
      "\u001b[0;32m<ipython-input-57-0d3dbee135e4>\u001b[0m in \u001b[0;36m<module>\u001b[0;34m()\u001b[0m\n\u001b[0;32m----> 1\u001b[0;31m \u001b[0mmean\u001b[0m\u001b[0;34m(\u001b[0m\u001b[0mtrain\u001b[0m\u001b[0;34m[\u001b[0m\u001b[0;34m'Petal width'\u001b[0m\u001b[0;34m]\u001b[0m\u001b[0;34m)\u001b[0m\u001b[0;34m\u001b[0m\u001b[0m\n\u001b[0m",
      "\u001b[0;31mTypeError\u001b[0m: 'numpy.float64' object is not callable"
     ]
    }
   ],
   "source": [
    "mean(train['Petal width'])"
   ]
  },
  {
   "cell_type": "code",
   "execution_count": 58,
   "metadata": {
    "collapsed": false
   },
   "outputs": [
    {
     "ename": "TypeError",
     "evalue": "'float' object is not callable",
     "output_type": "error",
     "traceback": [
      "\u001b[0;31m---------------------------------------------------------------------------\u001b[0m",
      "\u001b[0;31mTypeError\u001b[0m                                 Traceback (most recent call last)",
      "\u001b[0;32m<ipython-input-58-651e39f735ca>\u001b[0m in \u001b[0;36m<module>\u001b[0;34m()\u001b[0m\n\u001b[0;32m----> 1\u001b[0;31m \u001b[0mstdev\u001b[0m\u001b[0;34m(\u001b[0m\u001b[0mtrain\u001b[0m\u001b[0;34m[\u001b[0m\u001b[0;34m'Petal width'\u001b[0m\u001b[0;34m]\u001b[0m\u001b[0;34m)\u001b[0m\u001b[0;34m\u001b[0m\u001b[0m\n\u001b[0m",
      "\u001b[0;31mTypeError\u001b[0m: 'float' object is not callable"
     ]
    }
   ],
   "source": [
    "stdev(train['Petal width'])"
   ]
  },
  {
   "cell_type": "code",
   "execution_count": 59,
   "metadata": {
    "collapsed": false
   },
   "outputs": [],
   "source": [
    "def probability_x_vector(x1,x2,x3,x4):\n",
    "    sepal_length = integrate.quad(lambda x: math.exp(-(math.pow(x-5.8927419354838726,2)/(2*math.pow(0.8477779072467831,2))))* (1 / (math.sqrt(2*math.pi) * 0.8477779072467831)), x2-0.5,x1+0.5)\n",
    "    sepal_width = integrate.quad(lambda x: math.exp(-(math.pow(x-3.0387096774193556,2)/(2*math.pow(0.4211308194137039,2))))* (1 / (math.sqrt(2*math.pi) * 0.4211308194137039)), x2-0.5,x2+0.5)\n",
    "    petal_length = integrate.quad(lambda x: math.exp(-(math.pow(x-3.8516129032258082,2)/(2*math.pow(1.7568673095162275,2))))* (1 / (math.sqrt(2*math.pi) * 1.7568673095162275)), x3-0.5,x3+0.5)\n",
    "    petal_width = integrate.quad(lambda x: math.exp(-(math.pow(x-1.2241935483870974,2)/(2*math.pow(0.7524886588824152,2))))* (1 / (math.sqrt(2*math.pi) * 0.7524886588824152)), x4-0.5,x4+0.5)\n",
    "    return sepal_length[0]*sepal_width[0]* petal_length[0]*petal_width[0]\n"
   ]
  },
  {
   "cell_type": "code",
   "execution_count": 60,
   "metadata": {
    "collapsed": false
   },
   "outputs": [],
   "source": [
    "def sepal_length_setosa(a):\n",
    "    return integrate.quad(lambda x: math.exp(-(math.pow(x-5,2)/(2*math.pow(0.3292735225182537,2))))* (1 / (math.sqrt(2*math.pi) * 0.3292735225182537)), a-0.5,a+0.5)"
   ]
  },
  {
   "cell_type": "code",
   "execution_count": 61,
   "metadata": {
    "collapsed": false
   },
   "outputs": [],
   "source": [
    "def probability_x_class(x1,x2,x3,x4,Iris):\n",
    "    if Iris == 'Iris-setosa':\n",
    "        sepal_length = integrate.quad(lambda x: math.exp(-(math.pow(x-5,2)/(2*math.pow(0.3292735225182537,2))))* (1 / (math.sqrt(2*math.pi) * 0.3292735225182537)), x1-0.5,x1+0.5)\n",
    "        sepal_width = integrate.quad(lambda x: math.exp(-(math.pow(x-3.3846153846153846,2)/(2*math.pow(0.37594684782381665,2))))* (1 / (math.sqrt(2*math.pi) * 0.37594684782381665)), x2-0.5,x2+0.5)\n",
    "        petal_length = integrate.quad(lambda x: math.exp(-(math.pow(x-1.4692307692307689,2)/(2*math.pow(0.18231529391897192,2))))* (1 / (math.sqrt(2*math.pi) * 0.18231529391897192)), x3-0.5,x3+0.5)\n",
    "        petal_width = integrate.quad(lambda x: math.exp(-(math.pow(x-0.24102564102564103,2)/(2*math.pow(0.09925498454392666,2))))* (1 / (math.sqrt(2*math.pi) * 0.09925498454392666)), x4-0.5,x4+0.5)\n",
    "    elif Iris == 'Iris-virginica':\n",
    "        sepal_length = integrate.quad(lambda x: math.exp(-(math.pow(x-6.6309523809523796,2)/(2*math.pow(0.6686309621388903,2))))* (1 / (math.sqrt(2*math.pi) * 0.6686309621388903)), x1-0.5,x1+0.5)\n",
    "        sepal_width = integrate.quad(lambda x: math.exp(-(math.pow(x-2.9666666666666663,2)/(2*math.pow(0.33761478024132524,2))))* (1 / (math.sqrt(2*math.pi) * 0.33761478024132524)), x2-0.5,x2+0.5)\n",
    "        petal_length = integrate.quad(lambda x: math.exp(-(math.pow(x-5.5785714285714283,2)/(2*math.pow(0.5820634925913714,2))))* (1 / (math.sqrt(2*math.pi) * 0.5820634925913714)), x3-0.5,x3+0.5)\n",
    "        petal_width = integrate.quad(lambda x: math.exp(-(math.pow(x-2.0166666666666666,2)/(2*math.pow(0.2621828320054041,2))))* (1 / (math.sqrt(2*math.pi) * 0.2621828320054041)), x4-0.5,x4+0.5)\n",
    "    elif Iris == 'Iris-versicolor':\n",
    "        sepal_length = integrate.quad(lambda x: math.exp(-(math.pow(x-5.981395348837208,2)/(2*math.pow(0.5265592780601106,2))))* (1 / (math.sqrt(2*math.pi) * 0.5265592780601106)), x1-0.5,x1+0.5)\n",
    "        sepal_width = integrate.quad(lambda x: math.exp(-(math.pow(x-2.7953488372093029,2)/(2*math.pow(0.3214205732978086,2))))* (1 / (math.sqrt(2*math.pi) * 0.3214205732978086)), x2-0.5,x2+0.5)\n",
    "        petal_length = integrate.quad(lambda x: math.exp(-(math.pow(x-4.3255813953488369,2)/(2*math.pow(0.44244613514276354,2))))* (1 / (math.sqrt(2*math.pi) * 0.44244613514276354)), x3-0.5,x3+0.5)\n",
    "        petal_width = integrate.quad(lambda x: math.exp(-(math.pow(x-1.3418604651162789,2)/(2*math.pow(0.2061351361417055,2))))* (1 / (math.sqrt(2*math.pi) * 0.2061351361417055)), x4-0.5,x4+0.5)\n",
    "    return sepal_length[0]*sepal_width[0]* petal_length[0]*petal_width[0]"
   ]
  },
  {
   "cell_type": "code",
   "execution_count": 62,
   "metadata": {
    "collapsed": false
   },
   "outputs": [
    {
     "data": {
      "text/plain": [
       "1.1695511234552629e-12"
      ]
     },
     "execution_count": 62,
     "metadata": {},
     "output_type": "execute_result"
    }
   ],
   "source": [
    "probability_x_class(5.1,3.5,1.4,0.2, 'Iris-versicolor')"
   ]
  },
  {
   "cell_type": "code",
   "execution_count": 88,
   "metadata": {
    "collapsed": false
   },
   "outputs": [
    {
     "data": {
      "text/html": [
       "<div>\n",
       "<table border=\"1\" class=\"dataframe\">\n",
       "  <thead>\n",
       "    <tr style=\"text-align: right;\">\n",
       "      <th></th>\n",
       "      <th>Sepal length</th>\n",
       "      <th>Sepal width</th>\n",
       "      <th>Petal length</th>\n",
       "      <th>Petal width</th>\n",
       "      <th>class</th>\n",
       "    </tr>\n",
       "  </thead>\n",
       "  <tbody>\n",
       "    <tr>\n",
       "      <th>3</th>\n",
       "      <td>4.6</td>\n",
       "      <td>3.1</td>\n",
       "      <td>1.5</td>\n",
       "      <td>0.2</td>\n",
       "      <td>Iris-setosa</td>\n",
       "    </tr>\n",
       "    <tr>\n",
       "      <th>10</th>\n",
       "      <td>5.4</td>\n",
       "      <td>3.7</td>\n",
       "      <td>1.5</td>\n",
       "      <td>0.2</td>\n",
       "      <td>Iris-setosa</td>\n",
       "    </tr>\n",
       "    <tr>\n",
       "      <th>21</th>\n",
       "      <td>5.1</td>\n",
       "      <td>3.7</td>\n",
       "      <td>1.5</td>\n",
       "      <td>0.4</td>\n",
       "      <td>Iris-setosa</td>\n",
       "    </tr>\n",
       "    <tr>\n",
       "      <th>28</th>\n",
       "      <td>5.2</td>\n",
       "      <td>3.4</td>\n",
       "      <td>1.4</td>\n",
       "      <td>0.2</td>\n",
       "      <td>Iris-setosa</td>\n",
       "    </tr>\n",
       "    <tr>\n",
       "      <th>30</th>\n",
       "      <td>4.8</td>\n",
       "      <td>3.1</td>\n",
       "      <td>1.6</td>\n",
       "      <td>0.2</td>\n",
       "      <td>Iris-setosa</td>\n",
       "    </tr>\n",
       "    <tr>\n",
       "      <th>34</th>\n",
       "      <td>4.9</td>\n",
       "      <td>3.1</td>\n",
       "      <td>1.5</td>\n",
       "      <td>0.1</td>\n",
       "      <td>Iris-setosa</td>\n",
       "    </tr>\n",
       "    <tr>\n",
       "      <th>41</th>\n",
       "      <td>4.5</td>\n",
       "      <td>2.3</td>\n",
       "      <td>1.3</td>\n",
       "      <td>0.3</td>\n",
       "      <td>Iris-setosa</td>\n",
       "    </tr>\n",
       "    <tr>\n",
       "      <th>51</th>\n",
       "      <td>6.4</td>\n",
       "      <td>3.2</td>\n",
       "      <td>4.5</td>\n",
       "      <td>1.5</td>\n",
       "      <td>Iris-versicolor</td>\n",
       "    </tr>\n",
       "    <tr>\n",
       "      <th>52</th>\n",
       "      <td>6.9</td>\n",
       "      <td>3.1</td>\n",
       "      <td>4.9</td>\n",
       "      <td>1.5</td>\n",
       "      <td>Iris-versicolor</td>\n",
       "    </tr>\n",
       "    <tr>\n",
       "      <th>56</th>\n",
       "      <td>6.3</td>\n",
       "      <td>3.3</td>\n",
       "      <td>4.7</td>\n",
       "      <td>1.6</td>\n",
       "      <td>Iris-versicolor</td>\n",
       "    </tr>\n",
       "    <tr>\n",
       "      <th>66</th>\n",
       "      <td>5.6</td>\n",
       "      <td>3.0</td>\n",
       "      <td>4.5</td>\n",
       "      <td>1.5</td>\n",
       "      <td>Iris-versicolor</td>\n",
       "    </tr>\n",
       "    <tr>\n",
       "      <th>71</th>\n",
       "      <td>6.1</td>\n",
       "      <td>2.8</td>\n",
       "      <td>4.0</td>\n",
       "      <td>1.3</td>\n",
       "      <td>Iris-versicolor</td>\n",
       "    </tr>\n",
       "    <tr>\n",
       "      <th>73</th>\n",
       "      <td>6.1</td>\n",
       "      <td>2.8</td>\n",
       "      <td>4.7</td>\n",
       "      <td>1.2</td>\n",
       "      <td>Iris-versicolor</td>\n",
       "    </tr>\n",
       "    <tr>\n",
       "      <th>78</th>\n",
       "      <td>6.0</td>\n",
       "      <td>2.9</td>\n",
       "      <td>4.5</td>\n",
       "      <td>1.5</td>\n",
       "      <td>Iris-versicolor</td>\n",
       "    </tr>\n",
       "    <tr>\n",
       "      <th>79</th>\n",
       "      <td>5.7</td>\n",
       "      <td>2.6</td>\n",
       "      <td>3.5</td>\n",
       "      <td>1.0</td>\n",
       "      <td>Iris-versicolor</td>\n",
       "    </tr>\n",
       "    <tr>\n",
       "      <th>87</th>\n",
       "      <td>6.3</td>\n",
       "      <td>2.3</td>\n",
       "      <td>4.4</td>\n",
       "      <td>1.3</td>\n",
       "      <td>Iris-versicolor</td>\n",
       "    </tr>\n",
       "    <tr>\n",
       "      <th>91</th>\n",
       "      <td>6.1</td>\n",
       "      <td>3.0</td>\n",
       "      <td>4.6</td>\n",
       "      <td>1.4</td>\n",
       "      <td>Iris-versicolor</td>\n",
       "    </tr>\n",
       "    <tr>\n",
       "      <th>99</th>\n",
       "      <td>5.7</td>\n",
       "      <td>2.8</td>\n",
       "      <td>4.1</td>\n",
       "      <td>1.3</td>\n",
       "      <td>Iris-versicolor</td>\n",
       "    </tr>\n",
       "    <tr>\n",
       "      <th>106</th>\n",
       "      <td>4.9</td>\n",
       "      <td>2.5</td>\n",
       "      <td>4.5</td>\n",
       "      <td>1.7</td>\n",
       "      <td>Iris-virginica</td>\n",
       "    </tr>\n",
       "    <tr>\n",
       "      <th>108</th>\n",
       "      <td>6.7</td>\n",
       "      <td>2.5</td>\n",
       "      <td>5.8</td>\n",
       "      <td>1.8</td>\n",
       "      <td>Iris-virginica</td>\n",
       "    </tr>\n",
       "    <tr>\n",
       "      <th>118</th>\n",
       "      <td>7.7</td>\n",
       "      <td>2.6</td>\n",
       "      <td>6.9</td>\n",
       "      <td>2.3</td>\n",
       "      <td>Iris-virginica</td>\n",
       "    </tr>\n",
       "    <tr>\n",
       "      <th>123</th>\n",
       "      <td>6.3</td>\n",
       "      <td>2.7</td>\n",
       "      <td>4.9</td>\n",
       "      <td>1.8</td>\n",
       "      <td>Iris-virginica</td>\n",
       "    </tr>\n",
       "    <tr>\n",
       "      <th>124</th>\n",
       "      <td>6.7</td>\n",
       "      <td>3.3</td>\n",
       "      <td>5.7</td>\n",
       "      <td>2.1</td>\n",
       "      <td>Iris-virginica</td>\n",
       "    </tr>\n",
       "    <tr>\n",
       "      <th>128</th>\n",
       "      <td>6.4</td>\n",
       "      <td>2.8</td>\n",
       "      <td>5.6</td>\n",
       "      <td>2.1</td>\n",
       "      <td>Iris-virginica</td>\n",
       "    </tr>\n",
       "    <tr>\n",
       "      <th>129</th>\n",
       "      <td>7.2</td>\n",
       "      <td>3.0</td>\n",
       "      <td>5.8</td>\n",
       "      <td>1.6</td>\n",
       "      <td>Iris-virginica</td>\n",
       "    </tr>\n",
       "    <tr>\n",
       "      <th>137</th>\n",
       "      <td>6.4</td>\n",
       "      <td>3.1</td>\n",
       "      <td>5.5</td>\n",
       "      <td>1.8</td>\n",
       "      <td>Iris-virginica</td>\n",
       "    </tr>\n",
       "    <tr>\n",
       "      <th>141</th>\n",
       "      <td>6.9</td>\n",
       "      <td>3.1</td>\n",
       "      <td>5.1</td>\n",
       "      <td>2.3</td>\n",
       "      <td>Iris-virginica</td>\n",
       "    </tr>\n",
       "    <tr>\n",
       "      <th>149</th>\n",
       "      <td>5.9</td>\n",
       "      <td>3.0</td>\n",
       "      <td>5.1</td>\n",
       "      <td>1.8</td>\n",
       "      <td>Iris-virginica</td>\n",
       "    </tr>\n",
       "  </tbody>\n",
       "</table>\n",
       "</div>"
      ],
      "text/plain": [
       "     Sepal length  Sepal width  Petal length  Petal width            class\n",
       "3             4.6          3.1           1.5          0.2      Iris-setosa\n",
       "10            5.4          3.7           1.5          0.2      Iris-setosa\n",
       "21            5.1          3.7           1.5          0.4      Iris-setosa\n",
       "28            5.2          3.4           1.4          0.2      Iris-setosa\n",
       "30            4.8          3.1           1.6          0.2      Iris-setosa\n",
       "34            4.9          3.1           1.5          0.1      Iris-setosa\n",
       "41            4.5          2.3           1.3          0.3      Iris-setosa\n",
       "51            6.4          3.2           4.5          1.5  Iris-versicolor\n",
       "52            6.9          3.1           4.9          1.5  Iris-versicolor\n",
       "56            6.3          3.3           4.7          1.6  Iris-versicolor\n",
       "66            5.6          3.0           4.5          1.5  Iris-versicolor\n",
       "71            6.1          2.8           4.0          1.3  Iris-versicolor\n",
       "73            6.1          2.8           4.7          1.2  Iris-versicolor\n",
       "78            6.0          2.9           4.5          1.5  Iris-versicolor\n",
       "79            5.7          2.6           3.5          1.0  Iris-versicolor\n",
       "87            6.3          2.3           4.4          1.3  Iris-versicolor\n",
       "91            6.1          3.0           4.6          1.4  Iris-versicolor\n",
       "99            5.7          2.8           4.1          1.3  Iris-versicolor\n",
       "106           4.9          2.5           4.5          1.7   Iris-virginica\n",
       "108           6.7          2.5           5.8          1.8   Iris-virginica\n",
       "118           7.7          2.6           6.9          2.3   Iris-virginica\n",
       "123           6.3          2.7           4.9          1.8   Iris-virginica\n",
       "124           6.7          3.3           5.7          2.1   Iris-virginica\n",
       "128           6.4          2.8           5.6          2.1   Iris-virginica\n",
       "129           7.2          3.0           5.8          1.6   Iris-virginica\n",
       "137           6.4          3.1           5.5          1.8   Iris-virginica\n",
       "141           6.9          3.1           5.1          2.3   Iris-virginica\n",
       "149           5.9          3.0           5.1          1.8   Iris-virginica"
      ]
     },
     "execution_count": 88,
     "metadata": {},
     "output_type": "execute_result"
    }
   ],
   "source": [
    "test"
   ]
  },
  {
   "cell_type": "code",
   "execution_count": 64,
   "metadata": {
    "collapsed": false
   },
   "outputs": [
    {
     "ename": "SyntaxError",
     "evalue": "EOL while scanning string literal (<ipython-input-64-45b83213c469>, line 1)",
     "output_type": "error",
     "traceback": [
      "\u001b[0;36m  File \u001b[0;32m\"<ipython-input-64-45b83213c469>\"\u001b[0;36m, line \u001b[0;32m1\u001b[0m\n\u001b[0;31m    probability_x_class(test[0:3], 'C)\u001b[0m\n\u001b[0m                                      ^\u001b[0m\n\u001b[0;31mSyntaxError\u001b[0m\u001b[0;31m:\u001b[0m EOL while scanning string literal\n"
     ]
    }
   ],
   "source": [
    "probability_x_class(test[0:3], 'C)"
   ]
  },
  {
   "cell_type": "code",
   "execution_count": 65,
   "metadata": {
    "collapsed": false
   },
   "outputs": [],
   "source": [
    "\n",
    "def bayes_classifier(x1,x2,x3,x4):\n",
    "        sepal_length = integrate.quad(lambda x: math.exp(-(math.pow(x-5.8927419354838726,2)/(2*math.pow(0.8477779072467831,2))))* (1 / (math.sqrt(2*math.pi) * 0.8477779072467831)), x2-0.5,x1+0.5)\n",
    "        sepal_width = integrate.quad(lambda x: math.exp(-(math.pow(x-3.0387096774193556,2)/(2*math.pow(0.4211308194137039,2))))* (1 / (math.sqrt(2*math.pi) * 0.4211308194137039)), x2-0.5,x2+0.5)\n",
    "        petal_length = integrate.quad(lambda x: math.exp(-(math.pow(x-3.8516129032258082,2)/(2*math.pow(1.7568673095162275,2))))* (1 / (math.sqrt(2*math.pi) * 1.7568673095162275)), x3-0.5,x3+0.5)\n",
    "        petal_width = integrate.quad(lambda x: math.exp(-(math.pow(x-1.2241935483870974,2)/(2*math.pow(0.7524886588824152,2))))* (1 / (math.sqrt(2*math.pi) * 0.7524886588824152)), x4-0.5,x4+0.5)\n",
    "        \n",
    "        sepal_length1 = integrate.quad(lambda x: math.exp(-(math.pow(x-5,2)/(2*math.pow(0.3292735225182537,2))))* (1 / (math.sqrt(2*math.pi) * 0.3292735225182537)), x1-0.5,x1+0.5)\n",
    "        sepal_width1 = integrate.quad(lambda x: math.exp(-(math.pow(x-3.3846153846153846,2)/(2*math.pow(0.37594684782381665,2))))* (1 / (math.sqrt(2*math.pi) * 0.37594684782381665)), x2-0.5,x2+0.5)\n",
    "        petal_length1 = integrate.quad(lambda x: math.exp(-(math.pow(x-1.4692307692307689,2)/(2*math.pow(0.18231529391897192,2))))* (1 / (math.sqrt(2*math.pi) * 0.18231529391897192)), x3-0.5,x3+0.5)\n",
    "        petal_width1= integrate.quad(lambda x: math.exp(-(math.pow(x-0.24102564102564103,2)/(2*math.pow(0.09925498454392666,2))))* (1 / (math.sqrt(2*math.pi) * 0.09925498454392666)), x4-0.5,x4+0.5)\n",
    "        setosa = sepal_length1[0]*sepal_width1[0]* petal_length1[0]*petal_width1[0]\n",
    "\n",
    "        sepal_length2 = integrate.quad(lambda x: math.exp(-(math.pow(x-6.6309523809523796,2)/(2*math.pow(0.6686309621388903,2))))* (1 / (math.sqrt(2*math.pi) * 0.6686309621388903)), x1-0.5,x1+0.5)\n",
    "        sepal_width2 = integrate.quad(lambda x: math.exp(-(math.pow(x-2.9666666666666663,2)/(2*math.pow(0.33761478024132524,2))))* (1 / (math.sqrt(2*math.pi) * 0.33761478024132524)), x2-0.5,x2+0.5)\n",
    "        petal_length2 = integrate.quad(lambda x: math.exp(-(math.pow(x-5.5785714285714283,2)/(2*math.pow(0.5820634925913714,2))))* (1 / (math.sqrt(2*math.pi) * 0.5820634925913714)), x3-0.5,x3+0.5)\n",
    "        petal_width2 = integrate.quad(lambda x: math.exp(-(math.pow(x-2.0166666666666666,2)/(2*math.pow(0.2621828320054041,2))))* (1 / (math.sqrt(2*math.pi) * 0.2621828320054041)), x4-0.5,x4+0.5)\n",
    "        virginica = sepal_length2[0]*sepal_width2[0]* petal_length2[0]*petal_width2[0]\n",
    "    \n",
    "        sepal_length3 = integrate.quad(lambda x: math.exp(-(math.pow(x-5.981395348837208,2)/(2*math.pow(0.5265592780601106,2))))* (1 / (math.sqrt(2*math.pi) * 0.5265592780601106)), x1-0.5,x1+0.5)\n",
    "        sepal_width3 = integrate.quad(lambda x: math.exp(-(math.pow(x-2.7953488372093029,2)/(2*math.pow(0.3214205732978086,2))))* (1 / (math.sqrt(2*math.pi) * 0.3214205732978086)), x2-0.5,x2+0.5)\n",
    "        petal_length3 = integrate.quad(lambda x: math.exp(-(math.pow(x-4.3255813953488369,2)/(2*math.pow(0.44244613514276354,2))))* (1 / (math.sqrt(2*math.pi) * 0.44244613514276354)), x3-0.5,x3+0.5)\n",
    "        petal_width3 = integrate.quad(lambda x: math.exp(-(math.pow(x-1.3418604651162789,2)/(2*math.pow(0.2061351361417055,2))))* (1 / (math.sqrt(2*math.pi) * 0.2061351361417055)), x4-0.5,x4+0.5)\n",
    "        versicolor = sepal_length3[0]*sepal_width3[0]* petal_length3[0]*petal_width3[0]\n",
    "        \n",
    "        z= (setosa + virginica+ versicolor)/3\n",
    "        \n",
    "        setosa_prob = (1/z)*(1/3)*setosa\n",
    "        virginica_prob = (1/z)*(1/3)*virginica\n",
    "        versicolor_prob = (1/z)*(1/3)*versicolor\n",
    "        \n",
    "        probability = max(setosa_prob,virginica_prob,versicolor_prob)\n",
    "        label=\"\"\n",
    "        if max(setosa_prob,virginica_prob,versicolor_prob) == setosa_prob:\n",
    "            label=\"Iris-setosa\"\n",
    "            return label\n",
    "        elif max(setosa_prob,virginica_prob,versicolor_prob) == virginica_prob:\n",
    "            label=\"Iris-virginica\"\n",
    "            return label\n",
    "        elif max(setosa_prob,virginica_prob,versicolor_prob) == versicolor_prob:\n",
    "            label=\"Iris-versicolor\"\n",
    "            return label\n",
    "    "
   ]
  },
  {
   "cell_type": "code",
   "execution_count": 66,
   "metadata": {
    "collapsed": false
   },
   "outputs": [
    {
     "data": {
      "text/plain": [
       "5          Iris-setosa\n",
       "19         Iris-setosa\n",
       "22         Iris-setosa\n",
       "28         Iris-setosa\n",
       "39         Iris-setosa\n",
       "45         Iris-setosa\n",
       "47         Iris-setosa\n",
       "56     Iris-versicolor\n",
       "57     Iris-versicolor\n",
       "63     Iris-versicolor\n",
       "64     Iris-versicolor\n",
       "66     Iris-versicolor\n",
       "68     Iris-versicolor\n",
       "80     Iris-versicolor\n",
       "89     Iris-versicolor\n",
       "90     Iris-versicolor\n",
       "93     Iris-versicolor\n",
       "97     Iris-versicolor\n",
       "101     Iris-virginica\n",
       "109     Iris-virginica\n",
       "110     Iris-virginica\n",
       "125     Iris-virginica\n",
       "126     Iris-virginica\n",
       "129     Iris-virginica\n",
       "133     Iris-virginica\n",
       "141     Iris-virginica\n",
       "144     Iris-virginica\n",
       "147     Iris-virginica\n",
       "Name: class, dtype: object"
      ]
     },
     "execution_count": 66,
     "metadata": {},
     "output_type": "execute_result"
    }
   ],
   "source": [
    "test['class']"
   ]
  },
  {
   "cell_type": "code",
   "execution_count": 67,
   "metadata": {
    "collapsed": false
   },
   "outputs": [
    {
     "data": {
      "text/plain": [
       "[0,\n",
       " 1,\n",
       " 2,\n",
       " 3,\n",
       " 4,\n",
       " 5,\n",
       " 6,\n",
       " 7,\n",
       " 8,\n",
       " 9,\n",
       " 10,\n",
       " 11,\n",
       " 12,\n",
       " 13,\n",
       " 14,\n",
       " 15,\n",
       " 16,\n",
       " 17,\n",
       " 18,\n",
       " 19,\n",
       " 20,\n",
       " 21,\n",
       " 22,\n",
       " 23,\n",
       " 24,\n",
       " 25,\n",
       " 26,\n",
       " 27,\n",
       " 28,\n",
       " 29]"
      ]
     },
     "execution_count": 67,
     "metadata": {},
     "output_type": "execute_result"
    }
   ],
   "source": [
    "predicted=[]\n",
    "\n",
    "for j in range(30):\n",
    "    predicted.append(j)\n",
    "predicted"
   ]
  },
  {
   "cell_type": "code",
   "execution_count": 89,
   "metadata": {
    "collapsed": false
   },
   "outputs": [
    {
     "data": {
      "text/plain": [
       "['Iris-setosa',\n",
       " 'Iris-setosa',\n",
       " 'Iris-setosa',\n",
       " 'Iris-setosa',\n",
       " 'Iris-setosa',\n",
       " 'Iris-setosa',\n",
       " 'Iris-setosa',\n",
       " 'Iris-versicolor',\n",
       " 'Iris-virginica',\n",
       " 'Iris-versicolor',\n",
       " 'Iris-versicolor',\n",
       " 'Iris-versicolor',\n",
       " 'Iris-versicolor',\n",
       " 'Iris-versicolor',\n",
       " 'Iris-versicolor',\n",
       " 'Iris-versicolor',\n",
       " 'Iris-versicolor',\n",
       " 'Iris-versicolor',\n",
       " 'Iris-versicolor',\n",
       " 'Iris-virginica',\n",
       " 'Iris-virginica',\n",
       " 'Iris-versicolor',\n",
       " 'Iris-virginica',\n",
       " 'Iris-virginica',\n",
       " 'Iris-virginica',\n",
       " 'Iris-virginica',\n",
       " 'Iris-virginica',\n",
       " 'Iris-virginica',\n",
       " 28,\n",
       " 29]"
      ]
     },
     "execution_count": 89,
     "metadata": {},
     "output_type": "execute_result"
    }
   ],
   "source": [
    "for i in range (len(test)):\n",
    "    predicted[i] = bayes_classifier(test.iloc[i,0],test.iloc[i,1],test.iloc[i,2],test.iloc[i,3])\n",
    "predicted"
   ]
  },
  {
   "cell_type": "code",
   "execution_count": 123,
   "metadata": {
    "collapsed": false
   },
   "outputs": [
    {
     "name": "stdout",
     "output_type": "stream",
     "text": [
      "89.28571428571429\n",
      "25\n"
     ]
    }
   ],
   "source": [
    "true = 0\n",
    "for i in range(28):\n",
    "    if predicted[i] == test.iloc[i,4]:\n",
    "        true = true + 1\n",
    "    else:\n",
    "        true = true\n",
    "accuracy = true/28*100\n",
    "print(accuracy)\n",
    "print(true)"
   ]
  },
  {
   "cell_type": "code",
   "execution_count": 91,
   "metadata": {
    "collapsed": false,
    "scrolled": true
   },
   "outputs": [
    {
     "data": {
      "text/html": [
       "<div>\n",
       "<table border=\"1\" class=\"dataframe\">\n",
       "  <thead>\n",
       "    <tr style=\"text-align: right;\">\n",
       "      <th></th>\n",
       "      <th>Sepal length</th>\n",
       "      <th>Sepal width</th>\n",
       "      <th>Petal length</th>\n",
       "      <th>Petal width</th>\n",
       "      <th>class</th>\n",
       "    </tr>\n",
       "  </thead>\n",
       "  <tbody>\n",
       "    <tr>\n",
       "      <th>106</th>\n",
       "      <td>4.9</td>\n",
       "      <td>2.5</td>\n",
       "      <td>4.5</td>\n",
       "      <td>1.7</td>\n",
       "      <td>Iris-virginica</td>\n",
       "    </tr>\n",
       "    <tr>\n",
       "      <th>3</th>\n",
       "      <td>4.6</td>\n",
       "      <td>3.1</td>\n",
       "      <td>1.5</td>\n",
       "      <td>0.2</td>\n",
       "      <td>Iris-setosa</td>\n",
       "    </tr>\n",
       "    <tr>\n",
       "      <th>10</th>\n",
       "      <td>5.4</td>\n",
       "      <td>3.7</td>\n",
       "      <td>1.5</td>\n",
       "      <td>0.2</td>\n",
       "      <td>Iris-setosa</td>\n",
       "    </tr>\n",
       "    <tr>\n",
       "      <th>129</th>\n",
       "      <td>7.2</td>\n",
       "      <td>3.0</td>\n",
       "      <td>5.8</td>\n",
       "      <td>1.6</td>\n",
       "      <td>Iris-virginica</td>\n",
       "    </tr>\n",
       "    <tr>\n",
       "      <th>118</th>\n",
       "      <td>7.7</td>\n",
       "      <td>2.6</td>\n",
       "      <td>6.9</td>\n",
       "      <td>2.3</td>\n",
       "      <td>Iris-virginica</td>\n",
       "    </tr>\n",
       "    <tr>\n",
       "      <th>51</th>\n",
       "      <td>6.4</td>\n",
       "      <td>3.2</td>\n",
       "      <td>4.5</td>\n",
       "      <td>1.5</td>\n",
       "      <td>Iris-versicolor</td>\n",
       "    </tr>\n",
       "    <tr>\n",
       "      <th>128</th>\n",
       "      <td>6.4</td>\n",
       "      <td>2.8</td>\n",
       "      <td>5.6</td>\n",
       "      <td>2.1</td>\n",
       "      <td>Iris-virginica</td>\n",
       "    </tr>\n",
       "    <tr>\n",
       "      <th>79</th>\n",
       "      <td>5.7</td>\n",
       "      <td>2.6</td>\n",
       "      <td>3.5</td>\n",
       "      <td>1.0</td>\n",
       "      <td>Iris-versicolor</td>\n",
       "    </tr>\n",
       "    <tr>\n",
       "      <th>28</th>\n",
       "      <td>5.2</td>\n",
       "      <td>3.4</td>\n",
       "      <td>1.4</td>\n",
       "      <td>0.2</td>\n",
       "      <td>Iris-setosa</td>\n",
       "    </tr>\n",
       "    <tr>\n",
       "      <th>73</th>\n",
       "      <td>6.1</td>\n",
       "      <td>2.8</td>\n",
       "      <td>4.7</td>\n",
       "      <td>1.2</td>\n",
       "      <td>Iris-versicolor</td>\n",
       "    </tr>\n",
       "    <tr>\n",
       "      <th>66</th>\n",
       "      <td>5.6</td>\n",
       "      <td>3.0</td>\n",
       "      <td>4.5</td>\n",
       "      <td>1.5</td>\n",
       "      <td>Iris-versicolor</td>\n",
       "    </tr>\n",
       "    <tr>\n",
       "      <th>91</th>\n",
       "      <td>6.1</td>\n",
       "      <td>3.0</td>\n",
       "      <td>4.6</td>\n",
       "      <td>1.4</td>\n",
       "      <td>Iris-versicolor</td>\n",
       "    </tr>\n",
       "    <tr>\n",
       "      <th>30</th>\n",
       "      <td>4.8</td>\n",
       "      <td>3.1</td>\n",
       "      <td>1.6</td>\n",
       "      <td>0.2</td>\n",
       "      <td>Iris-setosa</td>\n",
       "    </tr>\n",
       "    <tr>\n",
       "      <th>108</th>\n",
       "      <td>6.7</td>\n",
       "      <td>2.5</td>\n",
       "      <td>5.8</td>\n",
       "      <td>1.8</td>\n",
       "      <td>Iris-virginica</td>\n",
       "    </tr>\n",
       "    <tr>\n",
       "      <th>21</th>\n",
       "      <td>5.1</td>\n",
       "      <td>3.7</td>\n",
       "      <td>1.5</td>\n",
       "      <td>0.4</td>\n",
       "      <td>Iris-setosa</td>\n",
       "    </tr>\n",
       "    <tr>\n",
       "      <th>34</th>\n",
       "      <td>4.9</td>\n",
       "      <td>3.1</td>\n",
       "      <td>1.5</td>\n",
       "      <td>0.1</td>\n",
       "      <td>Iris-setosa</td>\n",
       "    </tr>\n",
       "    <tr>\n",
       "      <th>56</th>\n",
       "      <td>6.3</td>\n",
       "      <td>3.3</td>\n",
       "      <td>4.7</td>\n",
       "      <td>1.6</td>\n",
       "      <td>Iris-versicolor</td>\n",
       "    </tr>\n",
       "    <tr>\n",
       "      <th>78</th>\n",
       "      <td>6.0</td>\n",
       "      <td>2.9</td>\n",
       "      <td>4.5</td>\n",
       "      <td>1.5</td>\n",
       "      <td>Iris-versicolor</td>\n",
       "    </tr>\n",
       "    <tr>\n",
       "      <th>137</th>\n",
       "      <td>6.4</td>\n",
       "      <td>3.1</td>\n",
       "      <td>5.5</td>\n",
       "      <td>1.8</td>\n",
       "      <td>Iris-virginica</td>\n",
       "    </tr>\n",
       "    <tr>\n",
       "      <th>52</th>\n",
       "      <td>6.9</td>\n",
       "      <td>3.1</td>\n",
       "      <td>4.9</td>\n",
       "      <td>1.5</td>\n",
       "      <td>Iris-versicolor</td>\n",
       "    </tr>\n",
       "    <tr>\n",
       "      <th>71</th>\n",
       "      <td>6.1</td>\n",
       "      <td>2.8</td>\n",
       "      <td>4.0</td>\n",
       "      <td>1.3</td>\n",
       "      <td>Iris-versicolor</td>\n",
       "    </tr>\n",
       "    <tr>\n",
       "      <th>149</th>\n",
       "      <td>5.9</td>\n",
       "      <td>3.0</td>\n",
       "      <td>5.1</td>\n",
       "      <td>1.8</td>\n",
       "      <td>Iris-virginica</td>\n",
       "    </tr>\n",
       "    <tr>\n",
       "      <th>123</th>\n",
       "      <td>6.3</td>\n",
       "      <td>2.7</td>\n",
       "      <td>4.9</td>\n",
       "      <td>1.8</td>\n",
       "      <td>Iris-virginica</td>\n",
       "    </tr>\n",
       "    <tr>\n",
       "      <th>87</th>\n",
       "      <td>6.3</td>\n",
       "      <td>2.3</td>\n",
       "      <td>4.4</td>\n",
       "      <td>1.3</td>\n",
       "      <td>Iris-versicolor</td>\n",
       "    </tr>\n",
       "    <tr>\n",
       "      <th>124</th>\n",
       "      <td>6.7</td>\n",
       "      <td>3.3</td>\n",
       "      <td>5.7</td>\n",
       "      <td>2.1</td>\n",
       "      <td>Iris-virginica</td>\n",
       "    </tr>\n",
       "    <tr>\n",
       "      <th>99</th>\n",
       "      <td>5.7</td>\n",
       "      <td>2.8</td>\n",
       "      <td>4.1</td>\n",
       "      <td>1.3</td>\n",
       "      <td>Iris-versicolor</td>\n",
       "    </tr>\n",
       "    <tr>\n",
       "      <th>41</th>\n",
       "      <td>4.5</td>\n",
       "      <td>2.3</td>\n",
       "      <td>1.3</td>\n",
       "      <td>0.3</td>\n",
       "      <td>Iris-setosa</td>\n",
       "    </tr>\n",
       "    <tr>\n",
       "      <th>141</th>\n",
       "      <td>6.9</td>\n",
       "      <td>3.1</td>\n",
       "      <td>5.1</td>\n",
       "      <td>2.3</td>\n",
       "      <td>Iris-virginica</td>\n",
       "    </tr>\n",
       "  </tbody>\n",
       "</table>\n",
       "</div>"
      ],
      "text/plain": [
       "     Sepal length  Sepal width  Petal length  Petal width            class\n",
       "106           4.9          2.5           4.5          1.7   Iris-virginica\n",
       "3             4.6          3.1           1.5          0.2      Iris-setosa\n",
       "10            5.4          3.7           1.5          0.2      Iris-setosa\n",
       "129           7.2          3.0           5.8          1.6   Iris-virginica\n",
       "118           7.7          2.6           6.9          2.3   Iris-virginica\n",
       "51            6.4          3.2           4.5          1.5  Iris-versicolor\n",
       "128           6.4          2.8           5.6          2.1   Iris-virginica\n",
       "79            5.7          2.6           3.5          1.0  Iris-versicolor\n",
       "28            5.2          3.4           1.4          0.2      Iris-setosa\n",
       "73            6.1          2.8           4.7          1.2  Iris-versicolor\n",
       "66            5.6          3.0           4.5          1.5  Iris-versicolor\n",
       "91            6.1          3.0           4.6          1.4  Iris-versicolor\n",
       "30            4.8          3.1           1.6          0.2      Iris-setosa\n",
       "108           6.7          2.5           5.8          1.8   Iris-virginica\n",
       "21            5.1          3.7           1.5          0.4      Iris-setosa\n",
       "34            4.9          3.1           1.5          0.1      Iris-setosa\n",
       "56            6.3          3.3           4.7          1.6  Iris-versicolor\n",
       "78            6.0          2.9           4.5          1.5  Iris-versicolor\n",
       "137           6.4          3.1           5.5          1.8   Iris-virginica\n",
       "52            6.9          3.1           4.9          1.5  Iris-versicolor\n",
       "71            6.1          2.8           4.0          1.3  Iris-versicolor\n",
       "149           5.9          3.0           5.1          1.8   Iris-virginica\n",
       "123           6.3          2.7           4.9          1.8   Iris-virginica\n",
       "87            6.3          2.3           4.4          1.3  Iris-versicolor\n",
       "124           6.7          3.3           5.7          2.1   Iris-virginica\n",
       "99            5.7          2.8           4.1          1.3  Iris-versicolor\n",
       "41            4.5          2.3           1.3          0.3      Iris-setosa\n",
       "141           6.9          3.1           5.1          2.3   Iris-virginica"
      ]
     },
     "execution_count": 91,
     "metadata": {},
     "output_type": "execute_result"
    }
   ],
   "source": [
    "test1 = test.iloc[np.random.permutation(len(test))]\n",
    "test1"
   ]
  },
  {
   "cell_type": "code",
   "execution_count": 83,
   "metadata": {
    "collapsed": false
   },
   "outputs": [
    {
     "data": {
      "text/plain": [
       "28"
      ]
     },
     "execution_count": 83,
     "metadata": {},
     "output_type": "execute_result"
    }
   ],
   "source": [
    "len(test1)"
   ]
  },
  {
   "cell_type": "code",
   "execution_count": 93,
   "metadata": {
    "collapsed": false
   },
   "outputs": [
    {
     "data": {
      "text/plain": [
       "['Iris-versicolor',\n",
       " 'Iris-setosa',\n",
       " 'Iris-setosa',\n",
       " 'Iris-virginica',\n",
       " 'Iris-virginica',\n",
       " 'Iris-versicolor',\n",
       " 'Iris-virginica',\n",
       " 'Iris-versicolor',\n",
       " 'Iris-setosa',\n",
       " 'Iris-versicolor',\n",
       " 'Iris-versicolor',\n",
       " 'Iris-versicolor',\n",
       " 'Iris-setosa',\n",
       " 'Iris-virginica',\n",
       " 'Iris-setosa',\n",
       " 'Iris-setosa',\n",
       " 'Iris-versicolor',\n",
       " 'Iris-versicolor',\n",
       " 'Iris-virginica',\n",
       " 'Iris-virginica',\n",
       " 'Iris-versicolor',\n",
       " 'Iris-virginica',\n",
       " 'Iris-versicolor',\n",
       " 'Iris-versicolor',\n",
       " 'Iris-virginica',\n",
       " 'Iris-versicolor',\n",
       " 'Iris-setosa',\n",
       " 'Iris-virginica']"
      ]
     },
     "execution_count": 93,
     "metadata": {},
     "output_type": "execute_result"
    }
   ],
   "source": [
    "predicted1=[]\n",
    "\n",
    "for j in range(28):\n",
    "    predicted1.append(j)\n",
    "    \n",
    "for i in range (len(test)):\n",
    "    predicted1[i] = bayes_classifier(test1.iloc[i,0],test1.iloc[i,1],test1.iloc[i,2],test1.iloc[i,3])\n",
    "predicted1"
   ]
  },
  {
   "cell_type": "code",
   "execution_count": 95,
   "metadata": {
    "collapsed": false
   },
   "outputs": [
    {
     "name": "stdout",
     "output_type": "stream",
     "text": [
      "[0, 0, 0, 1.0, 1.0, 1.0, 1.0, 1.0, 1.0, 1.0, 1.0, 1.0, 1.0, 1.0, 1.0, 1.0, 1.0, 1.0, 1.0, 0.0, 0.0, 1.0, 1.0, 1.0, 1.0, 1.0, 1.0, 1.0]\n"
     ]
    }
   ],
   "source": [
    "virginica"
   ]
  },
  {
   "cell_type": "code",
   "execution_count": 110,
   "metadata": {
    "collapsed": false
   },
   "outputs": [
    {
     "name": "stdout",
     "output_type": "stream",
     "text": [
      "[0, 1.0, 1.0, 1.0, 1.0, 1.0, 1.0, 1.0, 1.0, 1.0, 1.0, 1.0, 1.0, 1.0, 1.0, 1.0, 1.0, 1.0, 1.0, 1.0, 1.0, 1.0, 1.0, 1.0, 1.0, 1.0, 1.0, 1.0]\n",
      "[0, 0.0, 0.0, 0.0, 0.0, 0.0, 0.0, 0.0, 0.0, 0.0, 0.0, 0.0, 0.0, 0.0, 0.0, 0.0, 0.0, 0.0, 0.0, 0.0, 0.0, 0.0, 0.0, 0.0, 0.0, 0.0, 0.0, 0.0]\n"
     ]
    }
   ],
   "source": [
    "tp = []\n",
    "fp = []\n",
    "tn = []\n",
    "fn = []\n",
    "tpr = []\n",
    "fpr = [] \n",
    "for j in range(28):\n",
    "    fp.append(0)\n",
    "    tp.append(0)\n",
    "    tpr.append(0)\n",
    "    fpr.append(0)    \n",
    "    tn.append(0)\n",
    "    fn.append(0)    \n",
    "    \n",
    "for i in range(28):\n",
    "    if predicted1[i] == \"Iris-setosa\" and test1.iloc[i,4] == \"Iris-setosa\":\n",
    "        tp[i] = tp[i-1] + 1\n",
    "        fp[i] = fp[i-1]\n",
    "        tn[i] = tn[i-1]\n",
    "        fn[i] = fn[i-1]\n",
    "    elif predicted1[i] == \"Iris-setosa\" and test1.iloc[i,4] != \"Iris-setosa\":\n",
    "        fp[i] = fp[i-1] + 1\n",
    "        tp[i] = tp[i-1]\n",
    "        tn[i] = tn[i-1]\n",
    "        fn[i] = fn[i-1]\n",
    "    elif predicted1[i] != \"Iris-setosa\" and test1.iloc[i,4] == \"Iris-setosa\":\n",
    "        fp[i] = fp[i-1]\n",
    "        tp[i] = tp[i-1]\n",
    "        tn[i] = tn[i-1]\n",
    "        fn[i] = fn[i-1] + 1\n",
    "    elif predicted1[i] != \"Iris-setosa\" and test1.iloc[i,4] != \"Iris-setosa\":\n",
    "        fp[i] = fp[i-1]\n",
    "        tp[i] = tp[i-1]\n",
    "        tn[i] = tn[i-1] + 1\n",
    "        fn[i] = fn[i-1] \n",
    "    if tp[i] + fn[i] != 0 and tn[i] + fp[i] != 0:\n",
    "        tpr[i] = tp[i]/(tp[i]+fn[i])\n",
    "        fpr[i] = fp[i]/(tn[i]+fp[i])\n",
    "        \n",
    "print(tpr)\n",
    "print(fpr)"
   ]
  },
  {
   "cell_type": "code",
   "execution_count": 111,
   "metadata": {
    "collapsed": false
   },
   "outputs": [
    {
     "data": {
      "text/plain": [
       "[0, 1, 0, 1.2]"
      ]
     },
     "execution_count": 111,
     "metadata": {},
     "output_type": "execute_result"
    },
    {
     "data": {
      "image/png": "[encoded data removed]",
      "text/plain": [
       "<matplotlib.figure.Figure at 0x119bb82e8>"
      ]
     },
     "metadata": {},
     "output_type": "display_data"
    }
   ],
   "source": [
    "plt.plot(fpr,tpr, 'ro')\n",
    "plt.axis([0,1,0,1.2])"
   ]
  },
  {
   "cell_type": "code",
   "execution_count": 121,
   "metadata": {
    "collapsed": false
   },
   "outputs": [
    {
     "name": "stdout",
     "output_type": "stream",
     "text": [
      "[0, 0.0, 0.0, 0.5, 0.6666666666666666, 0.6666666666666666, 0.75, 0.75, 0.75, 0.75, 0.75, 0.75, 0.75, 0.8, 0.8, 0.8, 0.8, 0.8, 0.8333333333333334, 0.8333333333333334, 0.8333333333333334, 0.8571428571428571, 0.75, 0.75, 0.7777777777777778, 0.7777777777777778, 0.7777777777777778, 0.8]\n",
      "[0, 0.0, 0.0, 0.0, 0.0, 0.0, 0.0, 0.0, 0.0, 0.0, 0.0, 0.0, 0.0, 0.0, 0.0, 0.0, 0.0, 0.0, 0.0, 0.07142857142857142, 0.06666666666666667, 0.06666666666666667, 0.06666666666666667, 0.0625, 0.0625, 0.058823529411764705, 0.05555555555555555, 0.05555555555555555]\n"
     ]
    }
   ],
   "source": [
    "tp = []\n",
    "fp = []\n",
    "tn = []\n",
    "fn = []\n",
    "tpr = []\n",
    "fpr = [] \n",
    "for j in range(28):\n",
    "    fp.append(0)\n",
    "    tp.append(0)\n",
    "    tpr.append(0)\n",
    "    fpr.append(0)    \n",
    "    tn.append(0)\n",
    "    fn.append(0)    \n",
    "    \n",
    "for i in range(28):\n",
    "    if predicted1[i] == \"Iris-virginica\" and test1.iloc[i,4] == \"Iris-virginica\":\n",
    "        tp[i] = tp[i-1] + 1\n",
    "        fp[i] = fp[i-1]\n",
    "        tn[i] = tn[i-1]\n",
    "        fn[i] = fn[i-1]\n",
    "    elif predicted1[i] == \"Iris-virginica\" and test1.iloc[i,4] != \"Iris-virginica\":\n",
    "        fp[i] = fp[i-1] + 1\n",
    "        tp[i] = tp[i-1]\n",
    "        tn[i] = tn[i-1]\n",
    "        fn[i] = fn[i-1]\n",
    "    elif predicted1[i] != \"Iris-virginica\" and test1.iloc[i,4] == \"Iris-virginica\":\n",
    "        fp[i] = fp[i-1]\n",
    "        tp[i] = tp[i-1]\n",
    "        tn[i] = tn[i-1]\n",
    "        fn[i] = fn[i-1] + 1\n",
    "    elif predicted1[i] != \"Iris-virginica\" and test1.iloc[i,4] != \"Iris-virginica\":\n",
    "        fp[i] = fp[i-1]\n",
    "        tp[i] = tp[i-1]\n",
    "        tn[i] = tn[i-1] + 1\n",
    "        fn[i] = fn[i-1] \n",
    "    if tp[i] + fn[i] != 0 and tn[i] + fp[i] != 0:\n",
    "        tpr[i] = tp[i]/(tp[i]+fn[i])\n",
    "        fpr[i] = fp[i]/(tn[i]+fp[i])\n",
    "        \n",
    "print(tpr)\n",
    "print(fpr)"
   ]
  },
  {
   "cell_type": "code",
   "execution_count": 120,
   "metadata": {
    "collapsed": false
   },
   "outputs": [
    {
     "data": {
      "text/plain": [
       "[0, 1, 0, 1.2]"
      ]
     },
     "execution_count": 120,
     "metadata": {},
     "output_type": "execute_result"
    },
    {
     "data": {
      "image/png": "[encoded data removed]",
      "text/plain": [
       "<matplotlib.figure.Figure at 0x1187ad860>"
      ]
     },
     "metadata": {},
     "output_type": "display_data"
    }
   ],
   "source": [
    "plt.plot(fpr,tpr, 'ro')\n",
    "plt.axis([0,1,0,1.2])"
   ]
  },
  {
   "cell_type": "code",
   "execution_count": 115,
   "metadata": {
    "collapsed": false
   },
   "outputs": [
    {
     "name": "stdout",
     "output_type": "stream",
     "text": [
      "[0, 0, 0, 0, 0, 1.0, 1.0, 1.0, 1.0, 1.0, 1.0, 1.0, 1.0, 1.0, 1.0, 1.0, 1.0, 1.0, 1.0, 0.875, 0.8888888888888888, 0.8888888888888888, 0.8888888888888888, 0.9, 0.9, 0.9090909090909091, 0.9090909090909091, 0.9090909090909091]\n",
      "[0, 0, 0, 0, 0, 0.2, 0.16666666666666666, 0.16666666666666666, 0.14285714285714285, 0.14285714285714285, 0.14285714285714285, 0.14285714285714285, 0.125, 0.1111111111111111, 0.1, 0.09090909090909091, 0.09090909090909091, 0.09090909090909091, 0.08333333333333333, 0.08333333333333333, 0.08333333333333333, 0.07692307692307693, 0.14285714285714285, 0.14285714285714285, 0.13333333333333333, 0.13333333333333333, 0.125, 0.11764705882352941]\n"
     ]
    }
   ],
   "source": [
    "tp = []\n",
    "fp = []\n",
    "tn = []\n",
    "fn = []\n",
    "tpr = []\n",
    "fpr = [] \n",
    "for j in range(28):\n",
    "    fp.append(0)\n",
    "    tp.append(0)\n",
    "    tpr.append(0)\n",
    "    fpr.append(0)    \n",
    "    tn.append(0)\n",
    "    fn.append(0)    \n",
    "    \n",
    "for i in range(28):\n",
    "    if predicted1[i] == \"Iris-versicolor\" and test1.iloc[i,4] == \"Iris-versicolor\":\n",
    "        tp[i] = tp[i-1] + 1\n",
    "        fp[i] = fp[i-1]\n",
    "        tn[i] = tn[i-1]\n",
    "        fn[i] = fn[i-1]\n",
    "    elif predicted1[i] == \"Iris-versicolor\" and test1.iloc[i,4] != \"Iris-versicolor\":\n",
    "        fp[i] = fp[i-1] + 1\n",
    "        tp[i] = tp[i-1]\n",
    "        tn[i] = tn[i-1]\n",
    "        fn[i] = fn[i-1]\n",
    "    elif predicted1[i] != \"Iris-versicolor\" and test1.iloc[i,4] == \"Iris-versicolor\":\n",
    "        fp[i] = fp[i-1]\n",
    "        tp[i] = tp[i-1]\n",
    "        tn[i] = tn[i-1]\n",
    "        fn[i] = fn[i-1] + 1\n",
    "    elif predicted1[i] != \"Iris-versicolor\" and test1.iloc[i,4] != \"Iris-versicolor\":\n",
    "        fp[i] = fp[i-1]\n",
    "        tp[i] = tp[i-1]\n",
    "        tn[i] = tn[i-1] + 1\n",
    "        fn[i] = fn[i-1] \n",
    "    if tp[i] + fn[i] != 0 and tn[i] + fp[i] != 0:\n",
    "        tpr[i] = tp[i]/(tp[i]+fn[i])\n",
    "        fpr[i] = fp[i]/(tn[i]+fp[i])\n",
    "        \n",
    "print(tpr)\n",
    "print(fpr)"
   ]
  },
  {
   "cell_type": "code",
   "execution_count": 107,
   "metadata": {
    "collapsed": false
   },
   "outputs": [
    {
     "data": {
      "text/plain": [
       "[0, 1, 0, 1.2]"
      ]
     },
     "execution_count": 107,
     "metadata": {},
     "output_type": "execute_result"
    },
    {
     "data": {
      "image/png": "[encoded data removed]",
      "text/plain": [
       "<matplotlib.figure.Figure at 0x119a6aa58>"
      ]
     },
     "metadata": {},
     "output_type": "display_data"
    }
   ],
   "source": [
    "plt.plot(fpr,tpr, 'ro')\n",
    "plt.axis([0,1,0,1.2])"
   ]
  },
  {
   "cell_type": "code",
   "execution_count": null,
   "metadata": {
    "collapsed": true
   },
   "outputs": [],
   "source": []
  },
  {
   "cell_type": "code",
   "execution_count": null,
   "metadata": {
    "collapsed": true
   },
   "outputs": [],
   "source": []
  }
 ],
 "metadata": {
  "anaconda-cloud": {},
  "kernelspec": {
   "display_name": "Python [Root]",
   "language": "python",
   "name": "Python [Root]"
  },
  "language_info": {
   "codemirror_mode": {
    "name": "ipython",
    "version": 3
   },
   "file_extension": ".py",
   "mimetype": "text/x-python",
   "name": "python",
   "nbconvert_exporter": "python",
   "pygments_lexer": "ipython3",
   "version": "3.5.2"
  }
 },
 "nbformat": 4,
 "nbformat_minor": 0
}
